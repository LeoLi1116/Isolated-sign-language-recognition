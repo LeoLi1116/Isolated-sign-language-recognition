{
 "cells": [
  {
   "cell_type": "code",
   "execution_count": 1,
   "metadata": {},
   "outputs": [],
   "source": [
    "import cv2\n",
    "import numpy as np\n",
    "import os\n",
    "import matplotlib.pyplot as plt\n",
    "import json\n",
    "import pandas as pd"
   ]
  },
  {
   "cell_type": "code",
   "execution_count": 2,
   "metadata": {},
   "outputs": [
    {
     "name": "stdout",
     "output_type": "stream",
     "text": [
      "   frame  type         x         y         z\n",
      "0     22  face  0.438251  0.449453 -0.047826\n",
      "1     22  face  0.414527  0.404880 -0.071994\n",
      "2     22  face  0.423745  0.420681 -0.042145\n",
      "3     22  face  0.402349  0.372041 -0.043906\n",
      "4     22  face  0.411857  0.393013 -0.074747\n"
     ]
    }
   ],
   "source": [
    "data_columns = ['frame', 'type', 'x', 'y', 'z']\n",
    "data = pd.read_parquet(\"635217.parquet\", columns=data_columns)\n",
    "print(data.head())"
   ]
  },
  {
   "cell_type": "code",
   "execution_count": 7,
   "metadata": {},
   "outputs": [
    {
     "name": "stdout",
     "output_type": "stream",
     "text": [
      "22\n",
      "23\n",
      "24\n",
      "25\n",
      "26\n",
      "27\n"
     ]
    }
   ],
   "source": [
    "frames = range(data['frame'].min(), data['frame'].max()+1)\n",
    "\n",
    "def get_landmark(frame, type):\n",
    "    return data[(data['frame'] == frame) & (data['type'] == type)][['x', 'y', 'z']].values\n",
    "\n"
   ]
  },
  {
   "cell_type": "code",
   "execution_count": null,
   "metadata": {},
   "outputs": [],
   "source": [
    "for frame in frames:\n",
    "    face = get_landmark(frame, 'face')\n",
    "    pose = get_landmark(frame, 'pose')\n",
    "    lh = get_landmark(frame, 'left_hand')\n",
    "    rh = get_landmark(frame, 'right_hand')\n",
    "    \n",
    "    for coord in face:\n",
    "        # cv2.circle(img, (int(coord[0]), int(coord[1])), 3, (0, 0, 255), -1)\n",
    "    "
   ]
  }
 ],
 "metadata": {
  "kernelspec": {
   "display_name": "base",
   "language": "python",
   "name": "python3"
  },
  "language_info": {
   "codemirror_mode": {
    "name": "ipython",
    "version": 3
   },
   "file_extension": ".py",
   "mimetype": "text/x-python",
   "name": "python",
   "nbconvert_exporter": "python",
   "pygments_lexer": "ipython3",
   "version": "3.10.9"
  },
  "orig_nbformat": 4
 },
 "nbformat": 4,
 "nbformat_minor": 2
}
